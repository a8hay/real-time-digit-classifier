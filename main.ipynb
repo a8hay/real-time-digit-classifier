{
  "nbformat": 4,
  "nbformat_minor": 0,
  "metadata": {
    "colab": {
      "name": "Untitled0.ipynb",
      "provenance": []
    },
    "kernelspec": {
      "name": "python3",
      "display_name": "Python 3"
    }
  },
  "cells": [
    {
      "cell_type": "code",
      "metadata": {
        "id": "n5kmlBBQZpnr",
        "colab_type": "code",
        "colab": {}
      },
      "source": [
        "import helper\n",
        "import fc_model\n",
        "\n",
        "print(type(helper.imshow))"
      ],
      "execution_count": null,
      "outputs": []
    }
  ]
}